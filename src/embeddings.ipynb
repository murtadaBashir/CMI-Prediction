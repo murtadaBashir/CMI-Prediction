{
 "cells": [
  {
   "cell_type": "code",
   "execution_count": null,
   "id": "c4b0275d-8388-48e7-a541-0818a85fcacb",
   "metadata": {},
   "outputs": [],
   "source": [
    "import numpy as np\n",
    "import torch\n",
    "import networkx as nx\n",
    "from karateclub import Role2Vec\n",
    "\n",
    "def build_role2vec_embeddings(train_pos_mask, pair_circ_names, pair_mir_names, emb_dim_fallback=16):\n",
    "    train_edges = [(pair_mir_names[i], pair_circ_names[i]) for i, is_pos in enumerate(train_pos_mask) if is_pos]\n",
    "    if len(train_edges) == 0:\n",
    "        return {}, torch.empty((2,0), dtype=torch.long), emb_dim_fallback\n",
    "    G = nx.Graph()\n",
    "    G.add_edges_from(train_edges)\n",
    "    name_to_int = {n:i for i,n in enumerate(G.nodes())}\n",
    "    G_int = nx.relabel_nodes(G, name_to_int, copy=True)\n",
    "    r2v = Role2Vec()\n",
    "    r2v.fit(G_int)\n",
    "    emb = r2v.get_embedding()\n",
    "    emb_dim = emb.shape[1]\n",
    "    emb_dict = {n: emb[name_to_int[n]] for n in G.nodes()}\n",
    "    edge_index_np = np.array([[u, v] for u, v in G_int.edges()], dtype=np.int64).T\n",
    "    edge_index = torch.tensor(edge_index_np, dtype=torch.long) if edge_index_np.size else torch.empty((2,0), dtype=torch.long)\n",
    "    return emb_dict, edge_index, emb_dim\n",
    "\n",
    "def build_enhanced_X_from_embeddings(circ_feats, mir_feats, circ_names, mir_names, emb_dict, emb_dim, pair_circ_names, pair_mir_names):\n",
    "    circ_embs = np.zeros((len(circ_names), emb_dim), dtype=np.float32)\n",
    "    mir_embs = np.zeros((len(mir_names), emb_dim), dtype=np.float32)\n",
    "    for i, n in enumerate(circ_names):\n",
    "        circ_embs[i] = emb_dict.get(n, np.zeros(emb_dim))\n",
    "    for i, n in enumerate(mir_names):\n",
    "        mir_embs[i] = emb_dict.get(n, np.zeros(emb_dim))\n",
    "    circ_idx_map = {n: i for i, n in enumerate(circ_names)}\n",
    "    mir_idx_map = {n: i for i, n in enumerate(mir_names)}\n",
    "    X = np.zeros((len(pair_circ_names), circ_feats.shape[1] + mir_feats.shape[1] + 2 * emb_dim), dtype=np.float32)\n",
    "    for i, (circ_n, mir_n) in enumerate(zip(pair_circ_names, pair_mir_names)):\n",
    "        circ_idx = circ_idx_map[circ_n]\n",
    "        mir_idx = mir_idx_map[mir_n]\n",
    "        X[i] = np.concatenate([\n",
    "            mir_feats[mir_idx], mir_embs[mir_idx],\n",
    "            circ_feats[circ_idx], circ_embs[circ_idx]\n",
    "        ])\n",
    "    return X\n"
   ]
  }
 ],
 "metadata": {
  "kernelspec": {
   "display_name": "Python 3 (ipykernel)",
   "language": "python",
   "name": "python3"
  },
  "language_info": {
   "codemirror_mode": {
    "name": "ipython",
    "version": 3
   },
   "file_extension": ".py",
   "mimetype": "text/x-python",
   "name": "python",
   "nbconvert_exporter": "python",
   "pygments_lexer": "ipython3",
   "version": "3.10.14"
  }
 },
 "nbformat": 4,
 "nbformat_minor": 5
}
