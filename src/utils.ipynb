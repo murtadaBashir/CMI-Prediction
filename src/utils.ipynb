{
 "cells": [
  {
   "cell_type": "code",
   "execution_count": null,
   "id": "bd4fa4fc-4563-47db-b7fd-ead46b6c63f6",
   "metadata": {},
   "outputs": [],
   "source": [
    "import numpy as np\n",
    "import pandas as pd\n",
    "\n",
    "rng = np.random.default_rng(42)\n",
    "\n",
    "def load_feature_table(path):\n",
    "    df = pd.read_csv(path, engine='c')\n",
    "    names = df.iloc[:, 0].astype(str).str.strip().tolist()\n",
    "    X = df.iloc[:, 1:].astype(np.float32).to_numpy()\n",
    "    return names, X\n",
    "\n",
    "def make_pairs_and_labels(circ_names, mir_names, cmi_df, circ_feats, mir_feats, hard_neg_k=10):\n",
    "    circ_idx = {n:i for i,n in enumerate(circ_names)}\n",
    "    mir_idx = {n:i for i,n in enumerate(mir_names)}\n",
    "    mir_stripped = cmi_df['miRNA'].astype(str).str.strip()\n",
    "    circ_stripped = cmi_df['circRNA'].astype(str).str.strip()\n",
    "    valid_mask = mir_stripped.isin(mir_idx.keys()) & circ_stripped.isin(circ_idx.keys())\n",
    "    pos_pairs = [(circ_idx[circ_stripped.iloc[i]], mir_idx[mir_stripped.iloc[i]]) \n",
    "                for i in range(len(cmi_df)) if valid_mask.iloc[i]]\n",
    "\n",
    "    pos_set = set(pos_pairs)\n",
    "    num_negatives = len(pos_pairs)\n",
    "\n",
    "    circ_norm = circ_feats / (np.linalg.norm(circ_feats, axis=1, keepdims=True) + 1e-8)\n",
    "    mir_norm = mir_feats / (np.linalg.norm(mir_feats, axis=1, keepdims=True) + 1e-8)\n",
    "\n",
    "    neg_pairs = []\n",
    "    for ci, _ in pos_pairs:\n",
    "        sims = np.dot(mir_norm, circ_norm[ci])\n",
    "        hard_candidates = np.argsort(sims)[::-1]\n",
    "        for mi in hard_candidates[:hard_neg_k]:\n",
    "            if (ci, mi) not in pos_set and (ci, mi) not in neg_pairs:\n",
    "                neg_pairs.append((ci, mi))\n",
    "                break\n",
    "        if len(neg_pairs) >= num_negatives:\n",
    "            break\n",
    "\n",
    "    attempts = 0\n",
    "    while len(neg_pairs) < num_negatives and attempts < num_negatives * 5:\n",
    "        ci = rng.integers(0, len(circ_names))\n",
    "        mi = rng.integers(0, len(mir_names))\n",
    "        if (ci, mi) not in pos_set and (ci, mi) not in neg_pairs:\n",
    "            neg_pairs.append((ci, mi))\n",
    "        attempts += 1\n",
    "\n",
    "    y_list = [1] * len(pos_pairs) + [0] * len(neg_pairs)\n",
    "    pair_circ_names = [circ_names[ci] for ci, mi in pos_pairs] + [circ_names[ci] for ci, mi in neg_pairs]\n",
    "    pair_mir_names = [mir_names[mi] for ci, mi in pos_pairs] + [mir_names[mi] for ci, mi in neg_pairs]\n",
    "    return (pos_pairs, neg_pairs, np.array(pair_circ_names), np.array(pair_mir_names), np.array(y_list, dtype=int))\n"
   ]
  }
 ],
 "metadata": {
  "kernelspec": {
   "display_name": "Python 3 (ipykernel)",
   "language": "python",
   "name": "python3"
  },
  "language_info": {
   "codemirror_mode": {
    "name": "ipython",
    "version": 3
   },
   "file_extension": ".py",
   "mimetype": "text/x-python",
   "name": "python",
   "nbconvert_exporter": "python",
   "pygments_lexer": "ipython3",
   "version": "3.10.14"
  }
 },
 "nbformat": 4,
 "nbformat_minor": 5
}
